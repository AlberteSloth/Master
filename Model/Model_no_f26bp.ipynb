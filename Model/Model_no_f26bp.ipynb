{
 "cells": [
  {
   "cell_type": "code",
   "execution_count": 1,
   "metadata": {},
   "outputs": [
    {
     "data": {
      "text/latex": [
       "$$ \\begin{align}\n",
       "\\frac{\\mathrm{d} \\mathrm{f6p}\\left( t \\right)}{\\mathrm{d}t} =& \\frac{\\frac{C_{ADP} Vr_{PFK} \\mathrm{f16bp}\\left( t \\right)}{K_{ADP} K_{f16bp}} + \\frac{ - C_{ATP} Vf_{PFK} \\mathrm{f6p}\\left( t \\right)}{K_{ATP} K_{f6p}}}{\\left( -1 + \\left( 1 + \\frac{C_{ATP}}{K_{ATP}} \\right) \\left( 1 + \\frac{\\mathrm{f6p}\\left( t \\right)}{K_{f6p}} \\right) + \\left( 1 + \\frac{\\mathrm{f16bp}\\left( t \\right)}{K_{f16bp}} \\right) \\left( 1 + \\frac{C_{ADP}}{K_{ADP}} \\right) \\right) \\left( 1 + \\frac{\\left( 1 + \\frac{C_{ATP}}{K_{ATP}} \\right)^{4} L_{PFK} \\left( 1 + \\frac{C_{cit}}{K_{cit}} \\right)}{\\left( 1 + \\frac{\\mathrm{f6p}\\left( t \\right)}{K_{f6p}} + \\frac{\\mathrm{f16bp}\\left( t \\right)}{K_{f16bp}} \\right)^{4} + \\left( 1 + \\frac{f26bp}{K_{f26bp}} \\right)^{4} \\left( 1 + \\frac{C_{AMP}}{K_{AMP}} \\right)^{4}} \\right)} + \\frac{\\frac{ - Vr_{GPI} \\mathrm{f6p}\\left( t \\right)}{Kr_{GPI}} + \\frac{C_{G6P} Vf_{GPI}}{Kf_{GPI}}}{1 + \\frac{\\mathrm{f6p}\\left( t \\right)}{Kr_{GPI}} + \\frac{C_{G6P}}{Kf_{GPI}}} \\\\\n",
       "\\frac{\\mathrm{d} \\mathrm{f16bp}\\left( t \\right)}{\\mathrm{d}t} =& \\frac{C_{DHAP} C_{GAP} K_{DHAP} Vr_{ALD}}{K_{GAP} \\left( 1 + \\frac{C_{GAP}}{K_{GAP}} + \\frac{\\mathrm{f6p}\\left( t \\right)}{KAld_{f16bp}} \\right)} + \\frac{\\frac{ - C_{ADP} Vr_{PFK} \\mathrm{f16bp}\\left( t \\right)}{K_{ADP} K_{f16bp}} + \\frac{C_{ATP} Vf_{PFK} \\mathrm{f6p}\\left( t \\right)}{K_{ATP} K_{f6p}}}{\\left( -1 + \\left( 1 + \\frac{C_{ATP}}{K_{ATP}} \\right) \\left( 1 + \\frac{\\mathrm{f6p}\\left( t \\right)}{K_{f6p}} \\right) + \\left( 1 + \\frac{\\mathrm{f16bp}\\left( t \\right)}{K_{f16bp}} \\right) \\left( 1 + \\frac{C_{ADP}}{K_{ADP}} \\right) \\right) \\left( 1 + \\frac{\\left( 1 + \\frac{C_{ATP}}{K_{ATP}} \\right)^{4} L_{PFK} \\left( 1 + \\frac{C_{cit}}{K_{cit}} \\right)}{\\left( 1 + \\frac{\\mathrm{f6p}\\left( t \\right)}{K_{f6p}} + \\frac{\\mathrm{f16bp}\\left( t \\right)}{K_{f16bp}} \\right)^{4} + \\left( 1 + \\frac{f26bp}{K_{f26bp}} \\right)^{4} \\left( 1 + \\frac{C_{AMP}}{K_{AMP}} \\right)^{4}} \\right)} + \\frac{ - Vf_{ALD} \\mathrm{f16bp}\\left( t \\right)}{KAld_{f16bp}}\n",
       "\\end{align}\n",
       " $$"
      ],
      "text/plain": [
       "\u001b[0m\u001b[1mModel sys with 2 \u001b[22m\u001b[0m\u001b[1mequations\u001b[22m\n",
       "\u001b[0m\u001b[1mUnknowns (2):\u001b[22m\n",
       "  f6p(t)\n",
       "  f16bp(t)\n",
       "\u001b[0m\u001b[1mParameters (27):\u001b[22m\n",
       "  Vf_GPI\n",
       "  K_f16bp\n",
       "  K_AMP\n",
       "  K_ATP\n",
       "⋮\n",
       "\u001b[35mIncidence matrix:\u001b[39m2×4 SparseArrays.SparseMatrixCSC{Num, Int64} with 6 stored entries:\n",
       " ×  ×  ×  ⋅\n",
       " ×  ×  ⋅  ×"
      ]
     },
     "metadata": {},
     "output_type": "display_data"
    }
   ],
   "source": [
    "using ModelingToolkit, DifferentialEquations\n",
    "\n",
    "@parameters L_PFK L_PFK2 Vf_PFK Vr_PFK Vf_PFK2 Vr_PFK2 Vf_FBP Vr_FBP K_f6p K_ATP K_f16bp K_ADP K_cit K_AMP K_f26bp K_PFK2 K2_f6p K2_ATP K2_f26bp K2_ADP K_FBP_f26bp K_FBP_f6p K_Pi\n",
    "\n",
    "@parameters C_ATP C_ADP C_cit C_AMP C_Pi C_G6P C_GAP C_MgATP C_MgADP C_Mg C_DHAP\n",
    "@parameters Vf_GPI Vr_GPI Kf_GPI Kr_GPI \n",
    "@parameters Vf_ALD Vr_ALD KAld_f16bp K_GAP K_DHAP\n",
    "@parameters f26bp\n",
    "@variables t f6p(t) f16bp(t)\n",
    "D = Differential(t)\n",
    "\n",
    "r_GPI = (Vf_GPI*C_G6P/Kf_GPI - Vr_GPI*f6p/Kr_GPI)/\n",
    "    (1 + C_G6P/Kf_GPI + f6p/Kr_GPI)\n",
    "\n",
    "N_PFK = 1 + L_PFK*(1+C_ATP/K_ATP)^4*(1+C_cit/K_cit)/\n",
    "    ((1 + f6p/K_f6p + f16bp/K_f16bp)^4 + (1 + C_AMP/K_AMP)^4 * (1 + f26bp/K_f26bp)^4)\n",
    "\n",
    "r_PFK = ((Vf_PFK*C_ATP*f6p/(K_f6p*K_ATP) - Vr_PFK*C_ADP*f16bp/(K_f16bp*K_ADP))/\n",
    "    ((1 + f6p/K_f6p)*(1 + C_ATP/K_ATP) + (1 + f16bp/K_f16bp)*(1 + C_ADP/K_ADP) -1)) *\n",
    "    (1/N_PFK)\n",
    "\n",
    "r_ALD = Vf_ALD*f16bp/KAld_f16bp - Vr_ALD*C_GAP*C_DHAP/K_GAP*K_DHAP  / (1 + f6p/KAld_f16bp + C_GAP/K_GAP)\n",
    "\n",
    "eqs = [D(f6p) ~ r_GPI - r_PFK,\n",
    "    D(f16bp) ~ r_PFK - r_ALD]\n",
    "\n",
    "@named sys = ODESystem(eqs, t)\n",
    "\n",
    "sys=structural_simplify(sys)"
   ]
  },
  {
   "cell_type": "code",
   "execution_count": null,
   "metadata": {},
   "outputs": [],
   "source": [
    "u0 = [f6p => 10,\n",
    "    f16bp => 0.1,\n",
    "    f26bp => 0.1]\n",
    "\n",
    "p1 = [L_PFK => 2*10^-3,\n",
    "    L_PFK2 => 1*10^-3]\n",
    "\n",
    "V = [Vf_GPI => 4.8*10^4,\n",
    "    Vr_GPI => 40*10^4,\n",
    "    Vf_PFK => 15.5*10^2,\n",
    "    Vr_PFK => 6.78*10^1,\n",
    "    Vf_PFK2 => 41.6, \n",
    "    Vr_PFK2 => 30, #\n",
    "    Vf_FBP => 40, #\n",
    "    Vr_FBP => 30, #\n",
    "    Vf_ALD => 6.75*10^2,\n",
    "    Vr_ALD => 2.32*10^3]\n",
    "\n",
    "K = [Kf_GPI => 0.3,\n",
    "    Kr_GPI => 0.123,\n",
    "    KAld_f16bp => 5*10^-2,\n",
    "    K_GAP => 0.189,\n",
    "    K_f6p => 6*10^-2,\n",
    "    K_ATP => 0.1, #or 6.8*10^-2\n",
    "    K_f16bp => 0.65,\n",
    "    K_ADP => 0.54,\n",
    "    K_cit => 0.1, #\n",
    "    K_AMP => 0.3,\n",
    "    K_f26bp => 5.5*10^-3,\n",
    "    K_PFK2 => 16,\n",
    "    K2_f6p => 5*10^-2,\n",
    "    K2_ATP => 0.15,\n",
    "    K2_f26bp => 5.5*10^-3,\n",
    "    K2_ADP => 0.23,\n",
    "    K_FBP_f26bp => 0.1,\n",
    "    K_FBP_f6p => 0.1]    \n",
    "\n",
    "Cons = [C_ATP => 1.59*10^-1, #Mulq\n",
    "    C_MgATP => 1.52, #Mulq\n",
    "    C_ADP => 9.37*10^-2, #Mulq\n",
    "    C_MgADP => 0.11, #Mulq\n",
    "    C_Mg => 0.4, #Mulq\n",
    "    C_cit => 0.1,\n",
    "    C_AMP => 3*10^-2, #Mulq\n",
    "    C_Pi => 1, #Mulq\n",
    "    C_G6P => 3.9*10^-2, #Mulq\n",
    "    C_GAP => 5.7*10^-3  #Mulq\n",
    "    ]    \n",
    "\n",
    "p= [p1\n",
    "    V\n",
    "    K\n",
    "    Cons]\n"
   ]
  },
  {
   "cell_type": "code",
   "execution_count": null,
   "metadata": {},
   "outputs": [],
   "source": [
    "tspan = (0.0, 100)\n",
    "prob = ODEProblem(sys, u0, tspan, p, jac = true)\n",
    "sol = solve(prob)\n",
    "print(sol[end])\n",
    "using Plots\n",
    "plot(sol)"
   ]
  }
 ],
 "metadata": {
  "kernelspec": {
   "display_name": "Julia 1.10.0",
   "language": "julia",
   "name": "julia-1.10"
  },
  "language_info": {
   "file_extension": ".jl",
   "mimetype": "application/julia",
   "name": "julia",
   "version": "1.10.0"
  }
 },
 "nbformat": 4,
 "nbformat_minor": 2
}
