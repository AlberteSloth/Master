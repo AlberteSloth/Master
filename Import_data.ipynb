{
 "cells": [
  {
   "cell_type": "code",
   "execution_count": null,
   "metadata": {},
   "outputs": [],
   "source": [
    "using CSV\n",
    "using DataFrames \n",
    "using Statistics\n",
    "using Plots\n",
    "using StatsPlots; sp=StatsPlots\n",
    "\n",
    "# Read proteomics data\n",
    "df = CSV.read(\"Processed_Proteomics.csv\", DataFrame);"
   ]
  },
  {
   "cell_type": "code",
   "execution_count": null,
   "metadata": {},
   "outputs": [],
   "source": [
    "# 5'-AMP-activated protein kinase catalytic subunit alpha-1 isoform X2\n",
    "Invivo_AMPK_wt = df[df.Column1 .==(\"XP_027257169.1\"), Cols(c -> startswith(c, \"invivo\") && contains(c, \"WT\"))]\n",
    "Invivo_AMPK_zela = df[df.Column1 .==(\"XP_027257169.1\"), Cols(c -> startswith(c, \"invivo\") && contains(c, \"Zela\"))]\n",
    "\n",
    "# PFKM isoform X1 (ATP-dependent 6-phosphofructokinase, muscle type isoform X1)\n",
    "Invivo_PFKM_wt = df[df.Column1 .==(\"XP_027252233.1\"), Cols(c -> startswith(c, \"invivo\") && contains(c, \"WT\"))]\n",
    "Invivo_PFKM_zela = df[df.Column1 .==(\"XP_027252233.1\"), Cols(c -> startswith(c, \"invivo\") && contains(c, \"Zela\"))]\n",
    "\n",
    "# glucose-6-phosphate isomerase\n",
    "Invivo_GPI_wt = df[df.Column1 .==(\"NP_001233655.1\"), Cols(c -> startswith(c, \"invivo\") && contains(c, \"WT\"))]\n",
    "Invivo_GPI_zela = df[df.Column1 .==(\"NP_001233655.1\"), Cols(c -> startswith(c, \"invivo\") && contains(c, \"Zela\"))]\n",
    "\n",
    "# fructose-bisphosphate aldolase A isoform X1\n",
    "Invivo_ALDOA_wt = df[df.Column1 .==(\"XP_027260427.1\"), Cols(c -> startswith(c, \"invivo\") && contains(c, \"WT\"))]\n",
    "Invivo_ALDOA_zela = df[df.Column1 .==(\"XP_027260427.1\"), Cols(c -> startswith(c, \"invivo\") && contains(c, \"Zela\"))]\n",
    "\n",
    "# fructose-bisphosphate aldolase C\n",
    "Invivo_ALDOC_wt = df[df.Column1 .==(\"XP_035303253.1\"), Cols(c -> startswith(c, \"invivo\") && contains(c, \"WT\"))]\n",
    "Invivov_ALDOC_zela = df[df.Column1 .==(\"XP_035303253.1\"), Cols(c -> startswith(c, \"invivo\") && contains(c, \"Zela\"))]"
   ]
  },
  {
   "cell_type": "code",
   "execution_count": null,
   "metadata": {},
   "outputs": [],
   "source": [
    "GPI_wt_log = zeros(4)\n",
    "GPI_zela_log = zeros(4)\n",
    "PFKM_wt_log = zeros(4)\n",
    "PFKM_zela_log = zeros(4)\n",
    "AMPK_wt_log = zeros(4)\n",
    "AMPK_zela_log = zeros(4)\n",
    "ALDOA_wt_log = zeros(4)\n",
    "ALDOA_zela_log = zeros(4)\n",
    " \n",
    "for i in 1:4\n",
    "    GPI_wt_log[i] = log(Invivo_GPI_wt[1,i])\n",
    "    GPI_zela_log[i] = log(Invivo_GPI_zela[1,i])\n",
    "\n",
    "    PFKM_wt_log[i] = log(Invivo_PFKM_wt[1,i])\n",
    "    PFKM_zela_log[i] = log(Invivo_PFKM_zela[1,i])\n",
    "\n",
    "    AMPK_wt_log[i] = log(Invivo_AMPK_wt[1,i])\n",
    "    AMPK_zela_log[i] = log(Invivo_AMPK_zela[1,i])\n",
    "\n",
    "    ALDOA_wt_log[i] = log(Invivo_ALDOA_wt[1,i])\n",
    "    ALDOA_zela_log[i] = log(Invivo_ALDOA_zela[1,i])\n",
    "end \n",
    "\n"
   ]
  },
  {
   "cell_type": "code",
   "execution_count": null,
   "metadata": {},
   "outputs": [],
   "source": [
    "GPI_wt = [mean(GPI_wt_log), std(GPI_wt_log), quantile(GPI_wt_log, [0.03,0.97])]"
   ]
  },
  {
   "cell_type": "code",
   "execution_count": null,
   "metadata": {},
   "outputs": [],
   "source": [
    "GPI_zela = [mean(GPI_zela_log), std(GPI_zela_log), quantile(GPI_zela_log, [0.03, 0.97])]"
   ]
  },
  {
   "cell_type": "code",
   "execution_count": null,
   "metadata": {},
   "outputs": [],
   "source": [
    "PFKM_wt = [mean(PFKM_wt_log), std(PFKM_wt_log), quantile(PFKM_wt_log, [0.03, 0.97])]"
   ]
  },
  {
   "cell_type": "code",
   "execution_count": null,
   "metadata": {},
   "outputs": [],
   "source": [
    "PFKM_zela = [mean(PFKM_zela_log), std(PFKM_zela_log), quantile(PFKM_zela_log,[0.03, 0.97])]"
   ]
  },
  {
   "cell_type": "code",
   "execution_count": null,
   "metadata": {},
   "outputs": [],
   "source": [
    "AMPK_wt = [mean(AMPK_wt_log), std(AMPK_wt_log), quantile(AMPK_wt_log, [0.03, 0.97])]"
   ]
  },
  {
   "cell_type": "code",
   "execution_count": null,
   "metadata": {},
   "outputs": [],
   "source": [
    "AMPK_zela = [mean(AMPK_zela_log), std(AMPK_zela_log), quantile(AMPK_zela_log, [0.03, 0.97])]"
   ]
  },
  {
   "cell_type": "code",
   "execution_count": null,
   "metadata": {},
   "outputs": [],
   "source": [
    "ALDO_wt = [mean(ALDOA_wt_log), std(ALDOA_wt_log), quantile(ALDOA_wt_log, [0.03, 0.97])]"
   ]
  },
  {
   "cell_type": "code",
   "execution_count": null,
   "metadata": {},
   "outputs": [],
   "source": [
    "ALDO_zela = [mean(ALDOA_zela_log), std(ALDOA_zela_log), quantile(ALDOA_zela_log, [0.03, 0.97])]"
   ]
  },
  {
   "cell_type": "code",
   "execution_count": null,
   "metadata": {},
   "outputs": [],
   "source": [
    "GPI_wt[3]"
   ]
  },
  {
   "cell_type": "code",
   "execution_count": null,
   "metadata": {},
   "outputs": [],
   "source": [
    "sp.plot(GPI_wt[3], [4+0.1,4+0.1], label = \"wt: 3 % - 97 % quantile\", linecolor=:magenta3, primary=true)\n",
    "sp.plot!(GPI_zela[3], [4,4], label = \"zela: 3 % - 97 % quantile\", linecolor=:darkcyan, primary=true)\n",
    "sp.plot!(PFKM_wt[3], [3+0.1,3+0.1], label = \"wt: 3 % - 97 % quantile\", linecolor=:magenta3, primary=false)\n",
    "sp.plot!(PFKM_zela[3], [3,3], label = \"zela: 3 % - 97 % quantile\", linecolor=:darkcyan, primary=false)\n",
    "sp.plot!(AMPK_wt[3], [2+0.1,2+0.1], label = \"wt: 3 % - 97 % quantile\", linecolor=:magenta3, primary=false)\n",
    "sp.plot!(AMPK_zela[3], [2,2], label = \"zela: 3 % - 97 % quantile\", linecolor=:darkcyan, primary=false)\n",
    "sp.plot!(ALDO_wt[3], [1+0.1,1+0.1], label = \"wt: 3 % - 97 % quantile\", linecolor=:magenta3, primary=false)\n",
    "sp.plot!(ALDO_zela[3], [1,1], label = \"zela: 3 % - 97 % quantile\", linecolor=:darkcyan, primary=false)\n",
    "yticks!([1,2,3,4], [\"ALDO\", \"AMPK\", \"PFKM\", \"GPI\"])\n",
    "plot!(legend=:outerbottom, legendcolumns = 2, xlabel=\"Concentration (log(mM))\", title=\"Measured enzymes\")\n"
   ]
  },
  {
   "cell_type": "code",
   "execution_count": null,
   "metadata": {},
   "outputs": [],
   "source": [
    "plt = sp.plot()\n",
    "for i in 1:size(data_wt_all, 2)\n",
    "    if i == 1\n",
    "        sp.plot!(plt, [data_wt_all[3,i], data_wt_all[4,i]].+log(1000), [i+0.1,i+0.1], label = \"wt: 3 % - 97 % quantile\", linecolor=:magenta3, primary=true)\n",
    "        sp.plot!(plt, [data_zela_all[3,i], data_zela_all[4,i]].+log(1000), [i-0.1,i-0.1], label = \"zela: 3 % - 97 % quantile\", linecolor=:darkcyan, primary=true) \n",
    "    end \n",
    "    sp.plot!(plt, [data_wt_all[3,i], data_wt_all[4,i]].+log(1000), [i+0.1,i+0.1], label = \"wt\", linecolor=:magenta3, primary=false)\n",
    "    sp.plot!(plt, [data_zela_all[3,i], data_zela_all[4,i]].log(1000), [i-0.1,i-0.1], label = \"zela\", linecolor=:darkcyan, primary=false) \n",
    "end\n",
    "yticks!(plt, [1,2,3,4,5,6,7,8,9,10], [\"atp\", \"adp\", \"cit\", \"amp\", \"pep\", \"g6p\", \"g3p\", \"dhap\", \"f6p\", \"f16bp\"])\n",
    "plot!(legend=:outerbottom, legendcolumns = 2, xlabel=\"Concentration (log(mM))\", title=\"Measured metabolites\")"
   ]
  }
 ],
 "metadata": {
  "kernelspec": {
   "display_name": "Julia 1.10.0",
   "language": "julia",
   "name": "julia-1.10"
  },
  "language_info": {
   "file_extension": ".jl",
   "mimetype": "application/julia",
   "name": "julia",
   "version": "1.10.0"
  }
 },
 "nbformat": 4,
 "nbformat_minor": 2
}
